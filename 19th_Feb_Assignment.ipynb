{
 "cells": [
  {
   "cell_type": "markdown",
   "id": "739055df",
   "metadata": {},
   "source": [
    "### Q1. What is Flask Framework? What are the advantages of Flask Framework?"
   ]
  },
  {
   "cell_type": "markdown",
   "id": "2e6191a1",
   "metadata": {},
   "source": [
    "#### Flask is a micro web framework written in Python that is designed to be lightweight and easy to use. It is one of the most popular Python web frameworks, along with Django and Pyramid.\n",
    "\n",
    "#### Advantages of Flask Framework:\n",
    "\n",
    "###### 1. Lightweight and Flexible: Flask is designed to be lightweight and flexible, which means that you can use it to build anything from small web applications to complex web services.\n",
    "\n",
    "###### 2. Easy to Learn: Flask is easy to learn and has a simple and intuitive API that makes it easy to use, especially for beginners.\n",
    "\n",
    "###### 3. Extensible: Flask can be extended with various third-party libraries and plugins, which makes it easy to add new features and functionality to your web application.\n",
    "\n",
    "###### 4. Built-in Development Server: Flask comes with a built-in development server, which makes it easy to develop and test your web application without needing to set up a separate server environment.\n",
    "\n",
    "###### 5. Modular Design: Flask is built with a modular design, which means that you can use only the components that you need, making it easy to build and maintain your web application.\n",
    "\n",
    "###### 6. Easy Integration: Flask integrates well with other web technologies and services, such as WSGI, Jinja2, and SQLAlchemy, which makes it easy to use with other frameworks and tools.\n",
    "\n",
    "###### 7. Active Community: Flask has an active community of developers who contribute to the framework and create new plugins and libraries, which means that you can find support and resources easily."
   ]
  },
  {
   "cell_type": "markdown",
   "id": "e87a712c",
   "metadata": {},
   "source": [
    "### Q2. Create a simple Flask application to display ‘Hello World!!’. Attach the screenshot of the output in Jupyter Notebook."
   ]
  },
  {
   "cell_type": "code",
   "execution_count": 1,
   "id": "1a94766f",
   "metadata": {},
   "outputs": [
    {
     "name": "stdout",
     "output_type": "stream",
     "text": [
      " * Serving Flask app \"__main__\" (lazy loading)\n",
      " * Environment: production\n",
      "\u001b[31m   WARNING: This is a development server. Do not use it in a production deployment.\u001b[0m\n",
      "\u001b[2m   Use a production WSGI server instead.\u001b[0m\n",
      " * Debug mode: off\n"
     ]
    },
    {
     "name": "stderr",
     "output_type": "stream",
     "text": [
      " * Running on http://127.0.0.1:5000/ (Press CTRL+C to quit)\n",
      "127.0.0.1 - - [23/Feb/2023 15:09:00] \"GET / HTTP/1.1\" 200 -\n",
      "127.0.0.1 - - [23/Feb/2023 15:09:01] \"GET /favicon.ico HTTP/1.1\" 404 -\n"
     ]
    }
   ],
   "source": [
    "from flask import Flask\n",
    "\n",
    "app = Flask(__name__)\n",
    "\n",
    "@app.route('/')\n",
    "def hello_world():\n",
    "    return 'Hello World!!'\n",
    "\n",
    "if __name__ == '__main__':\n",
    "    app.run()"
   ]
  },
  {
   "attachments": {
    "Screenshot%202023-02-23%20151104.jpg": {
     "image/jpeg": "[encoded data removed]"
    }
   },
   "cell_type": "markdown",
   "id": "25fa450e",
   "metadata": {},
   "source": [
    "![Screenshot%202023-02-23%20151104.jpg](attachment:Screenshot%202023-02-23%20151104.jpg)"
   ]
  },
  {
   "cell_type": "markdown",
   "id": "a5891be5",
   "metadata": {},
   "source": [
    "### Q3. What is App routing in Flask? Why do we use app routes?"
   ]
  },
  {
   "cell_type": "markdown",
   "id": "1145539a",
   "metadata": {},
   "source": [
    "#### In Flask, app routing refers to the process of mapping a URL to a specific function in your Flask application. This is done using the @app.route() decorator in your Flask application."
   ]
  },
  {
   "cell_type": "code",
   "execution_count": 2,
   "id": "5e697df0",
   "metadata": {},
   "outputs": [
    {
     "name": "stdout",
     "output_type": "stream",
     "text": [
      " * Serving Flask app \"__main__\" (lazy loading)\n",
      " * Environment: production\n",
      "\u001b[31m   WARNING: This is a development server. Do not use it in a production deployment.\u001b[0m\n",
      "\u001b[2m   Use a production WSGI server instead.\u001b[0m\n",
      " * Debug mode: off\n"
     ]
    },
    {
     "name": "stderr",
     "output_type": "stream",
     "text": [
      " * Running on http://127.0.0.1:5000/ (Press CTRL+C to quit)\n",
      "127.0.0.1 - - [23/Feb/2023 15:14:00] \"GET / HTTP/1.1\" 200 -\n"
     ]
    }
   ],
   "source": [
    "from flask import Flask\n",
    "\n",
    "app = Flask(__name__)\n",
    "\n",
    "@app.route('/')\n",
    "def index():\n",
    "    return 'This is the index page.'\n",
    "\n",
    "if __name__ == '__main__':\n",
    "    app.run()"
   ]
  },
  {
   "attachments": {
    "Screenshot%202023-02-23%20151416.jpg": {
     "image/jpeg": "[encoded data removed]"
    }
   },
   "cell_type": "markdown",
   "id": "55fb1875",
   "metadata": {},
   "source": [
    "![Screenshot%202023-02-23%20151416.jpg](attachment:Screenshot%202023-02-23%20151416.jpg)"
   ]
  },
  {
   "cell_type": "markdown",
   "id": "c64c6d30",
   "metadata": {},
   "source": [
    "#### In this example, the @app.route('/') decorator maps the root URL of the application (http://localhost:5000/) to the index() function, which returns the string \"This is the index page.\" when the root URL is requested.\n",
    "\n",
    "#### We use app routes in Flask for several reasons:\n",
    "\n",
    "###### 1. To create a URL structure for your application that makes sense and is easy to understand and navigate.\n",
    "\n",
    "###### 2. To organize the functionality of your application into logical units or pages.\n",
    "\n",
    "###### 3. To handle user requests and inputs by calling the appropriate function based on the URL that was requested.\n",
    "\n",
    "###### 4. To implement RESTful APIs that can respond to different HTTP requests (such as GET, POST, PUT, DELETE) on different URLs."
   ]
  },
  {
   "cell_type": "markdown",
   "id": "ec19ff4a",
   "metadata": {},
   "source": [
    "### Q.4 Create a “/welcome” route to display the welcome message “Welcome to ABC Corporation” and a “/” route to show the following details:\n",
    "#### Company Name: ABC Corporation\n",
    "#### Location: India\n",
    "#### Contact Detail: 999-999-9999\n",
    "#### Attach the screenshot of the output in Jupyter Notebook."
   ]
  },
  {
   "cell_type": "code",
   "execution_count": null,
   "id": "743ddf3c",
   "metadata": {},
   "outputs": [
    {
     "name": "stdout",
     "output_type": "stream",
     "text": [
      " * Serving Flask app \"__main__\" (lazy loading)\n",
      " * Environment: production\n",
      "\u001b[31m   WARNING: This is a development server. Do not use it in a production deployment.\u001b[0m\n",
      "\u001b[2m   Use a production WSGI server instead.\u001b[0m\n",
      " * Debug mode: off\n"
     ]
    },
    {
     "name": "stderr",
     "output_type": "stream",
     "text": [
      " * Running on http://127.0.0.1:5000/ (Press CTRL+C to quit)\n",
      "127.0.0.1 - - [23/Feb/2023 19:11:52] \"GET / HTTP/1.1\" 200 -\n"
     ]
    }
   ],
   "source": [
    "from flask import Flask\n",
    "\n",
    "app = Flask(__name__)\n",
    "\n",
    "@app.route('/welcome')\n",
    "def welcome():\n",
    "    return 'Welcome to ABC Corporation'\n",
    "\n",
    "@app.route('/')\n",
    "def details():\n",
    "    return 'Company Name: ABC Corporation<br>Location: India<br>Contact Detail: 999-999-9999'\n",
    "\n",
    "if __name__ == '__main__':\n",
    "    app.run()\n"
   ]
  },
  {
   "attachments": {
    "Screenshot%202023-02-23%20152206.jpg": {
     "image/jpeg": "[encoded data removed]"
    }
   },
   "cell_type": "markdown",
   "id": "41ea3496",
   "metadata": {},
   "source": [
    "###### welcome route\n",
    "![Screenshot%202023-02-23%20152206.jpg](attachment:Screenshot%202023-02-23%20152206.jpg)"
   ]
  },
  {
   "attachments": {
    "Screenshot%202023-02-23%20191650.jpg": {
     "image/jpeg": "[encoded data removed]"
    }
   },
   "cell_type": "markdown",
   "id": "459553b9",
   "metadata": {},
   "source": [
    "###### \"/\" route\n",
    "![Screenshot%202023-02-23%20191650.jpg](attachment:Screenshot%202023-02-23%20191650.jpg)"
   ]
  },
  {
   "cell_type": "markdown",
   "id": "a6396f7e",
   "metadata": {},
   "source": [
    "### Q5. What function is used in Flask for URL Building? Write a Python code to demonstrate the working of the url_for() function."
   ]
  },
  {
   "cell_type": "markdown",
   "id": "f7812308",
   "metadata": {},
   "source": [
    "##### In Flask, the url_for() function is used for URL building. This function generates a URL for the given endpoint and arguments."
   ]
  },
  {
   "cell_type": "code",
   "execution_count": 1,
   "id": "3aa9e0a0",
   "metadata": {},
   "outputs": [
    {
     "name": "stdout",
     "output_type": "stream",
     "text": [
      "/hello\n",
      "/user/John%20Doe\n",
      "/post/123\n"
     ]
    }
   ],
   "source": [
    "from flask import Flask, url_for\n",
    "\n",
    "app = Flask(__name__)\n",
    "\n",
    "@app.route('/hello')\n",
    "def hello():\n",
    "    return 'Hello, World!'\n",
    "\n",
    "@app.route('/user/<username>')\n",
    "def show_user_profile(username):\n",
    "        return f'User {username}'\n",
    "\n",
    "@app.route('/post/<int:post_id>')\n",
    "def show_post(post_id):\n",
    "        return f'Post {post_id}'\n",
    "\n",
    "with app.test_request_context():\n",
    "    # Generate a URL for the 'hello' endpoint\n",
    "    print(url_for('hello'))\n",
    "\n",
    "    # Generate a URL for the 'show_user_profile' endpoint with a username argument\n",
    "    print(url_for('show_user_profile', username='John Doe'))\n",
    "\n",
    "    # Generate a URL for the 'show_post' endpoint with a post ID argument\n",
    "    print(url_for('show_post', post_id=123))\n"
   ]
  },
  {
   "cell_type": "code",
   "execution_count": null,
   "id": "69235fa5",
   "metadata": {},
   "outputs": [],
   "source": []
  }
 ],
 "metadata": {
  "kernelspec": {
   "display_name": "Python 3 (ipykernel)",
   "language": "python",
   "name": "python3"
  },
  "language_info": {
   "codemirror_mode": {
    "name": "ipython",
    "version": 3
   },
   "file_extension": ".py",
   "mimetype": "text/x-python",
   "name": "python",
   "nbconvert_exporter": "python",
   "pygments_lexer": "ipython3",
   "version": "3.9.13"
  }
 },
 "nbformat": 4,
 "nbformat_minor": 5
}
